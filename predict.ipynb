{
 "cells": [
  {
   "cell_type": "code",
   "execution_count": 1,
   "metadata": {
    "collapsed": true
   },
   "outputs": [],
   "source": [
    "import pandas as pd\n",
    "import numpy as np\n",
    "import matplotlib.pyplot as plt\n",
    "import seaborn as sns\n",
    "import datetime\n",
    "\n",
    "def date_parser(s):\n",
    "    \"\"\"\n",
    "    Parse a date string using the log file's format. For example: '2015/10/16 11:25:59.000'\n",
    "    \"\"\"\n",
    "    without_ms = s.split('.')[0]\n",
    "    return datetime.datetime.strptime(without_ms, '%Y/%m/%d %H:%M:%S')\n",
    "\n",
    "log = pd.read_csv('data/log.csv', parse_dates=['startTime', 'completeTime'], date_parser=date_parser)"
   ]
  },
  {
   "cell_type": "code",
   "execution_count": 17,
   "metadata": {
    "collapsed": true
   },
   "outputs": [],
   "source": [
    "# TODO: Delete all rows happening after a user asked a question to avoid data leakages\n",
    "def eliminate_leakage(df):\n",
    "    pass"
   ]
  },
  {
   "cell_type": "code",
   "execution_count": null,
   "metadata": {
    "collapsed": true
   },
   "outputs": [],
   "source": [
    "# Feature Engineering.\n",
    "# Extract meaningfull features for each user to be used by a predictive model like XGBoost.\n",
    "\n",
    "def asked_question(group):\n",
    "    \"\"\"\n",
    "    Given the records of a user, return whether or not the user has asked a question.\n",
    "    \"\"\"\n",
    "    return int(group['event'].str.contains('Question').sum() > 0)\n",
    "\n",
    "\n",
    "def customer(customer_id):\n",
    "    '''\n",
    "    Helper function to subset the log by customer_id\n",
    "    '''\n",
    "    return log[log['case'] == customer_id]\n",
    "\n",
    "def gender(customer_id):\n",
    "    return int(customer(customer_id)['gender'].values[0] == 'M')\n",
    "\n",
    "def age(customer_id):\n",
    "    mapping = {'30-39': 35, '50-65': 57, '40-49': 45, '18-29': 23}\n",
    "    age_category = customer(customer_id)['agecategory'].values[0]\n",
    "    return mapping[age_category]\n",
    "\n",
    "def num_sessions(customer_id):\n",
    "    \"\"\"\n",
    "    Given a user's id, find the number of sessions per day.\n",
    "    \"\"\"\n",
    "    return len(customer(customer_id)['sessionid'].unique())\n",
    "\n",
    "def session_duration(customer_id, mode='mean'):\n",
    "    \"\"\"\n",
    "    Return selected statistics about the session duration for the given customer.\n",
    "    \"\"\"\n",
    "    try:\n",
    "        durations = session_duration.sessions[session_duration.session['case'] == customer_id]['duration']\n",
    "        if mode == 'mean':\n",
    "            return durations.mean()\n",
    "        if mode == 'median':\n",
    "            return durations.median()\n",
    "        if mode == 'max':\n",
    "            return durations.max()\n",
    "        if mode == 'min':\n",
    "            return durations.min()\n",
    "        raise ValueError('You enter mode = {}. Only mean, median, max and min are supported'.format(mode))\n",
    "            \n",
    "    except AttributeError:\n",
    "        print('I got here')\n",
    "        # The first time the function is called, compute the heavy sessions object as a static member\n",
    "        def total_minutes(timedelta):\n",
    "            return timedelta.total_seconds() / 60\n",
    "        \n",
    "        aggregations = {'startTime': 'first', 'completeTime': 'last'}\n",
    "        session_duration.sessions = log.groupby(['case', 'sessionid'], as_index=False).agg(aggregations)\n",
    "        \n",
    "        start = session_duration.sessions['startTime']\n",
    "        end = session_duration.sessions['completeTime']\n",
    "        session_duration.sessions['duration'] = (end - start).apply(total_minutes)\n",
    "        session_duration(customer_id) # Recursive call after setting the static variable\n",
    "        \n",
    "train = pd.DataFrame()\n",
    "\n",
    "target = log.groupby('case').apply(asked_question)\n",
    "train['customer_id'] = target.index\n",
    "train['asked_question'] = target.values\n",
    "train['gender'] = train['customer_id'].apply(gender)\n",
    "train['age'] = train['customer_id'].apply(age)\n",
    "train['num_sessions'] = train['customer_id'].apply(num_sessions)\n",
    "\n",
    "# The following calls are quite slow, i need to find out why\n",
    "\n",
    "#train['mean_session_duration'] = train['customer_id'].apply(session_duration, args=('mean',))\n",
    "#train['median_session_duration'] = train['customer_id'].apply(session_duration, args=('median',))\n",
    "#train['max_session_duration'] = train['customer_id'].apply(session_duration, args=('max',))\n",
    "#train['min_session_duration'] = train['customer_id'].apply(session_duration, args=('min',))\n",
    "\n",
    "train.head()"
   ]
  }
 ],
 "metadata": {
  "kernelspec": {
   "display_name": "Python 3",
   "language": "python",
   "name": "python3"
  },
  "language_info": {
   "codemirror_mode": {
    "name": "ipython",
    "version": 3
   },
   "file_extension": ".py",
   "mimetype": "text/x-python",
   "name": "python",
   "nbconvert_exporter": "python",
   "pygments_lexer": "ipython3",
   "version": "3.6.3"
  }
 },
 "nbformat": 4,
 "nbformat_minor": 2
}
