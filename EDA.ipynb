{
 "cells": [
  {
   "cell_type": "code",
   "execution_count": 1,
   "metadata": {},
   "outputs": [
    {
     "data": {
      "text/html": [
       "<div>\n",
       "<style>\n",
       "    .dataframe thead tr:only-child th {\n",
       "        text-align: right;\n",
       "    }\n",
       "\n",
       "    .dataframe thead th {\n",
       "        text-align: left;\n",
       "    }\n",
       "\n",
       "    .dataframe tbody tr th {\n",
       "        vertical-align: top;\n",
       "    }\n",
       "</style>\n",
       "<table border=\"1\" class=\"dataframe\">\n",
       "  <thead>\n",
       "    <tr style=\"text-align: right;\">\n",
       "      <th></th>\n",
       "      <th>case</th>\n",
       "      <th>event</th>\n",
       "      <th>startTime</th>\n",
       "      <th>completeTime</th>\n",
       "      <th>agecategory</th>\n",
       "      <th>office_w</th>\n",
       "      <th>NumberWerkMapMessages</th>\n",
       "      <th>office_u</th>\n",
       "      <th>NumberComplaints</th>\n",
       "      <th>gender</th>\n",
       "      <th>...</th>\n",
       "      <th>questiontopicid</th>\n",
       "      <th>questionsubthemeid</th>\n",
       "      <th>event_office_w</th>\n",
       "      <th>tip_en</th>\n",
       "      <th>service_detail</th>\n",
       "      <th>ipid</th>\n",
       "      <th>event_office_u</th>\n",
       "      <th>questiontheme_en</th>\n",
       "      <th>complainttopic_en</th>\n",
       "      <th>service_detail_en</th>\n",
       "    </tr>\n",
       "  </thead>\n",
       "  <tbody>\n",
       "    <tr>\n",
       "      <th>0</th>\n",
       "      <td>1445</td>\n",
       "      <td>NaN</td>\n",
       "      <td>2015-08-07 10:51:41</td>\n",
       "      <td>2015-08-07 10:51:41</td>\n",
       "      <td>30-39</td>\n",
       "      <td>291</td>\n",
       "      <td>0</td>\n",
       "      <td>296</td>\n",
       "      <td>0</td>\n",
       "      <td>M</td>\n",
       "      <td>...</td>\n",
       "      <td>NaN</td>\n",
       "      <td>NaN</td>\n",
       "      <td>NaN</td>\n",
       "      <td>NaN</td>\n",
       "      <td>NaN</td>\n",
       "      <td>NaN</td>\n",
       "      <td>NaN</td>\n",
       "      <td>NaN</td>\n",
       "      <td>NaN</td>\n",
       "      <td>NaN</td>\n",
       "    </tr>\n",
       "    <tr>\n",
       "      <th>1</th>\n",
       "      <td>1445</td>\n",
       "      <td>Visit page mijn_cv</td>\n",
       "      <td>2015-08-07 10:52:27</td>\n",
       "      <td>2015-08-07 10:52:27</td>\n",
       "      <td>30-39</td>\n",
       "      <td>291</td>\n",
       "      <td>0</td>\n",
       "      <td>296</td>\n",
       "      <td>0</td>\n",
       "      <td>M</td>\n",
       "      <td>...</td>\n",
       "      <td>NaN</td>\n",
       "      <td>NaN</td>\n",
       "      <td>291.0</td>\n",
       "      <td>NaN</td>\n",
       "      <td>NaN</td>\n",
       "      <td>1048748.0</td>\n",
       "      <td>296.0</td>\n",
       "      <td>NaN</td>\n",
       "      <td>NaN</td>\n",
       "      <td>NaN</td>\n",
       "    </tr>\n",
       "    <tr>\n",
       "      <th>2</th>\n",
       "      <td>1445</td>\n",
       "      <td>Visit page home</td>\n",
       "      <td>2015-08-07 10:53:08</td>\n",
       "      <td>2015-08-07 10:53:08</td>\n",
       "      <td>30-39</td>\n",
       "      <td>291</td>\n",
       "      <td>0</td>\n",
       "      <td>296</td>\n",
       "      <td>0</td>\n",
       "      <td>M</td>\n",
       "      <td>...</td>\n",
       "      <td>NaN</td>\n",
       "      <td>NaN</td>\n",
       "      <td>291.0</td>\n",
       "      <td>NaN</td>\n",
       "      <td>NaN</td>\n",
       "      <td>1048748.0</td>\n",
       "      <td>296.0</td>\n",
       "      <td>NaN</td>\n",
       "      <td>NaN</td>\n",
       "      <td>NaN</td>\n",
       "    </tr>\n",
       "    <tr>\n",
       "      <th>3</th>\n",
       "      <td>1445</td>\n",
       "      <td>Visit page mijn_cv</td>\n",
       "      <td>2015-08-07 10:53:14</td>\n",
       "      <td>2015-08-07 10:53:14</td>\n",
       "      <td>30-39</td>\n",
       "      <td>291</td>\n",
       "      <td>0</td>\n",
       "      <td>296</td>\n",
       "      <td>0</td>\n",
       "      <td>M</td>\n",
       "      <td>...</td>\n",
       "      <td>NaN</td>\n",
       "      <td>NaN</td>\n",
       "      <td>291.0</td>\n",
       "      <td>NaN</td>\n",
       "      <td>NaN</td>\n",
       "      <td>1048748.0</td>\n",
       "      <td>296.0</td>\n",
       "      <td>NaN</td>\n",
       "      <td>NaN</td>\n",
       "      <td>NaN</td>\n",
       "    </tr>\n",
       "    <tr>\n",
       "      <th>4</th>\n",
       "      <td>1445</td>\n",
       "      <td>Visit page home</td>\n",
       "      <td>2015-08-07 10:53:38</td>\n",
       "      <td>2015-08-15 19:05:12</td>\n",
       "      <td>30-39</td>\n",
       "      <td>291</td>\n",
       "      <td>0</td>\n",
       "      <td>296</td>\n",
       "      <td>0</td>\n",
       "      <td>M</td>\n",
       "      <td>...</td>\n",
       "      <td>NaN</td>\n",
       "      <td>NaN</td>\n",
       "      <td>291.0</td>\n",
       "      <td>NaN</td>\n",
       "      <td>NaN</td>\n",
       "      <td>1048748.0</td>\n",
       "      <td>296.0</td>\n",
       "      <td>NaN</td>\n",
       "      <td>NaN</td>\n",
       "      <td>NaN</td>\n",
       "    </tr>\n",
       "  </tbody>\n",
       "</table>\n",
       "<p>5 rows × 49 columns</p>\n",
       "</div>"
      ],
      "text/plain": [
       "   case               event           startTime        completeTime  \\\n",
       "0  1445                 NaN 2015-08-07 10:51:41 2015-08-07 10:51:41   \n",
       "1  1445  Visit page mijn_cv 2015-08-07 10:52:27 2015-08-07 10:52:27   \n",
       "2  1445     Visit page home 2015-08-07 10:53:08 2015-08-07 10:53:08   \n",
       "3  1445  Visit page mijn_cv 2015-08-07 10:53:14 2015-08-07 10:53:14   \n",
       "4  1445     Visit page home 2015-08-07 10:53:38 2015-08-15 19:05:12   \n",
       "\n",
       "  agecategory  office_w  NumberWerkMapMessages  office_u  NumberComplaints  \\\n",
       "0       30-39       291                      0       296                 0   \n",
       "1       30-39       291                      0       296                 0   \n",
       "2       30-39       291                      0       296                 0   \n",
       "3       30-39       291                      0       296                 0   \n",
       "4       30-39       291                      0       296                 0   \n",
       "\n",
       "  gender        ...         questiontopicid questionsubthemeid  \\\n",
       "0      M        ...                     NaN                NaN   \n",
       "1      M        ...                     NaN                NaN   \n",
       "2      M        ...                     NaN                NaN   \n",
       "3      M        ...                     NaN                NaN   \n",
       "4      M        ...                     NaN                NaN   \n",
       "\n",
       "   event_office_w  tip_en service_detail       ipid  event_office_u  \\\n",
       "0             NaN     NaN            NaN        NaN             NaN   \n",
       "1           291.0     NaN            NaN  1048748.0           296.0   \n",
       "2           291.0     NaN            NaN  1048748.0           296.0   \n",
       "3           291.0     NaN            NaN  1048748.0           296.0   \n",
       "4           291.0     NaN            NaN  1048748.0           296.0   \n",
       "\n",
       "   questiontheme_en  complainttopic_en service_detail_en  \n",
       "0               NaN                NaN               NaN  \n",
       "1               NaN                NaN               NaN  \n",
       "2               NaN                NaN               NaN  \n",
       "3               NaN                NaN               NaN  \n",
       "4               NaN                NaN               NaN  \n",
       "\n",
       "[5 rows x 49 columns]"
      ]
     },
     "execution_count": 1,
     "metadata": {},
     "output_type": "execute_result"
    }
   ],
   "source": [
    "import pandas as pd\n",
    "import numpy as np\n",
    "import matplotlib.pyplot as plt\n",
    "import seaborn as sns\n",
    "import datetime\n",
    "import random\n",
    "\n",
    "def date_parser(s):\n",
    "    \"\"\"\n",
    "    Parse a date string using the log file's format. For example: '2015/10/16 11:25:59.000'\n",
    "    \"\"\"\n",
    "    without_ms = s.split('.')[0]\n",
    "    return datetime.datetime.strptime(without_ms, '%Y/%m/%d %H:%M:%S')\n",
    "\n",
    "log = pd.read_csv('data/log.csv', parse_dates=['startTime', 'completeTime'], date_parser=date_parser)\n",
    "log.head()"
   ]
  },
  {
   "cell_type": "markdown",
   "metadata": {},
   "source": [
    "<h2>  Data Quality </h2>\n",
    "\n",
    "Lets start by checking the NaN counts. Are there columns with many missing values?"
   ]
  },
  {
   "cell_type": "code",
   "execution_count": 2,
   "metadata": {},
   "outputs": [
    {
     "data": {
      "image/png": "[encoded data removed]",
      "text/plain": [
       "<matplotlib.figure.Figure at 0x1f6a6bf2a20>"
      ]
     },
     "metadata": {},
     "output_type": "display_data"
    }
   ],
   "source": [
    "null = log.isnull().sum() * 100 / len(log)\n",
    "null.head()\n",
    "\n",
    "fig, ax = plt.subplots()\n",
    "# the size of A4 paper\n",
    "fig.set_size_inches(5.7, 8.27)\n",
    "\n",
    "sns.barplot(x=null, y=null.index).set_title('NaN % for each column')\n",
    "plt.show()"
   ]
  },
  {
   "cell_type": "code",
   "execution_count": 3,
   "metadata": {},
   "outputs": [
    {
     "ename": "ModuleNotFoundError",
     "evalue": "No module named 'missingno'",
     "output_type": "error",
     "traceback": [
      "\u001b[1;31m---------------------------------------------------------------------------\u001b[0m",
      "\u001b[1;31mModuleNotFoundError\u001b[0m                       Traceback (most recent call last)",
      "\u001b[1;32m<ipython-input-3-3f659900b893>\u001b[0m in \u001b[0;36m<module>\u001b[1;34m()\u001b[0m\n\u001b[1;32m----> 1\u001b[1;33m \u001b[1;32mimport\u001b[0m \u001b[0mmissingno\u001b[0m \u001b[1;32mas\u001b[0m \u001b[0mmsno\u001b[0m\u001b[1;33m\u001b[0m\u001b[0m\n\u001b[0m\u001b[0;32m      2\u001b[0m \u001b[0mmsno\u001b[0m\u001b[1;33m.\u001b[0m\u001b[0mheatmap\u001b[0m\u001b[1;33m(\u001b[0m\u001b[0mlog\u001b[0m\u001b[1;33m)\u001b[0m\u001b[1;33m\u001b[0m\u001b[0m\n",
      "\u001b[1;31mModuleNotFoundError\u001b[0m: No module named 'missingno'"
     ]
    }
   ],
   "source": [
    "import missingno as msno\n",
    "msno.heatmap(log)"
   ]
  },
  {
   "cell_type": "markdown",
   "metadata": {},
   "source": [
    "<h3> Missing value conditional probability </h3>\n",
    "\n",
    "The heatmap above shows features that tend to either existing or missing together. Nullity correlation ranges from -1 (if one variable appears the other definitely does not) to 0 (variables appearing or not appearing have no effect on one another) to 1 (if one variable appears the other definitely also does)."
   ]
  },
  {
   "cell_type": "markdown",
   "metadata": {},
   "source": [
    "<h2> Unique values </h2>\n",
    "\n",
    "Lets now look at the distribution of unique values in each column. This can provide an insight into their meaning."
   ]
  },
  {
   "cell_type": "code",
   "execution_count": 6,
   "metadata": {},
   "outputs": [
    {
     "data": {
      "text/plain": [
       "case                            4226\n",
       "event                            246\n",
       "startTime                     481325\n",
       "completeTime                  481324\n",
       "agecategory                        4\n",
       "office_w                          40\n",
       "NumberWerkMapMessages             37\n",
       "office_u                          13\n",
       "NumberComplaints                   6\n",
       "gender                             2\n",
       "variant-index                   4224\n",
       "variant                         4225\n",
       "NumberQuestions                   40\n",
       "variantindex                       1\n",
       "questionsubtheme_en              133\n",
       "url_file                         355\n",
       "NumberComplaintsSoFar              6\n",
       "NumberQuestionsSoFar              50\n",
       "complaintdossierid               256\n",
       "tip                               29\n",
       "questiontopic_en                 772\n",
       "event_agecategory                  4\n",
       "page_action_detail_en             20\n",
       "complaintid                      289\n",
       "vhost                              2\n",
       "page_action_detail               214\n",
       "NumberWerkMapMessagesSoFar        54\n",
       "contactchannelid                   8\n",
       "event_gender                       2\n",
       "complainttopicid                  70\n",
       "activity                         246\n",
       "complainttheme_en                  3\n",
       "complaintthemeid                   3\n",
       "complaintsubthemeid                5\n",
       "complaintsubtheme_en               5\n",
       "page_load_error                    2\n",
       "questionthemeid                   14\n",
       "sessionid                     106221\n",
       "ref_url_category                   9\n",
       "questiontopicid                  925\n",
       "questionsubthemeid               155\n",
       "event_office_w                    40\n",
       "tip_en                            29\n",
       "service_detail                    15\n",
       "ipid                           10641\n",
       "event_office_u                    13\n",
       "questiontheme_en                  13\n",
       "complainttopic_en                 70\n",
       "service_detail_en                 15\n",
       "dtype: int64"
      ]
     },
     "execution_count": 6,
     "metadata": {},
     "output_type": "execute_result"
    }
   ],
   "source": [
    "log.apply(pd.Series.nunique)"
   ]
  },
  {
   "cell_type": "markdown",
   "metadata": {},
   "source": [
    "<b> Some of these numbers are interesting. Specifically the following conclusions can be drawn: </b>\n",
    "\n",
    "- The case column refers to the signed in users. There are **4226 unique users** in our database\n",
    "\n",
    "\n",
    "- The sessionid refers to the internet session. There are **106221 different sessions**, therefore each user visited our site **25 times on average** \n",
    "\n",
    "\n",
    "- There are **246 different events**  (all of them referring to specific URL visits). This info is recorded twice (**activity and event columns seem to be the same**). We can therefore safely remove one of them.\n",
    "\n",
    "\n",
    "- Ages are binned into **4 categories** , probably for anonimization purposes.\n",
    "\n",
    "<h3> Lets look with some more detail into the different values for interesting features </h3>"
   ]
  },
  {
   "cell_type": "code",
   "execution_count": null,
   "metadata": {
    "collapsed": true
   },
   "outputs": [],
   "source": [
    "# Events without an event type are pretty useless so we might as well drop them\n",
    "log.dropna(axis=0, subset=['event'], inplace=True)\n",
    "\n",
    "events = log['event'].unique()\n",
    "not_page_visits = [event for event in events if not event.startswith('Visit page')]\n",
    "not_page_visits"
   ]
  },
  {
   "cell_type": "markdown",
   "metadata": {},
   "source": [
    "<h3> Almost all events are page visits! </h3>\n",
    "\n",
    "As we can see, out of 246 unique events, 243 are visits of specific URL pages. The 3 remaining are very important for our case since we are mostly interested in traces that lead to a call, a question or a complaint. \n",
    "\n",
    "<b> Lets take a closer look at this events. </b>"
   ]
  },
  {
   "cell_type": "code",
   "execution_count": null,
   "metadata": {
    "collapsed": true
   },
   "outputs": [],
   "source": [
    "def event_percentage(event):\n",
    "    return len(log.loc[log['event'] == event]) * 100 / len(log)\n",
    "\n",
    "for event in not_page_visits:\n",
    "    print('{:.2f}% of records refer to a {}'.format(event_percentage(event), event))"
   ]
  },
  {
   "cell_type": "code",
   "execution_count": null,
   "metadata": {
    "collapsed": true
   },
   "outputs": [],
   "source": [
    "complain_cols = [c for c in log.columns if 'complaint' in c] \n",
    "question_cols = [c for c in log.columns if 'question' in c]"
   ]
  },
  {
   "cell_type": "markdown",
   "metadata": {},
   "source": [
    "<h2> Filtering interesting traces </h2>\n",
    "\n",
    "We are mostly interested in traces that conclude or include at least one instance of a \"slow\" channel. This could be a question asked to the call center, a discussion initiated on the website (identified by the presence of WerkMap messages) or a cimplaint filed. We can achieve that by first moving to a trace representation and then filtering accordingly."
   ]
  },
  {
   "cell_type": "code",
   "execution_count": null,
   "metadata": {
    "collapsed": true
   },
   "outputs": [],
   "source": [
    "log.head()"
   ]
  },
  {
   "cell_type": "code",
   "execution_count": 7,
   "metadata": {},
   "outputs": [
    {
     "data": {
      "text/html": [
       "<div>\n",
       "<style>\n",
       "    .dataframe thead tr:only-child th {\n",
       "        text-align: right;\n",
       "    }\n",
       "\n",
       "    .dataframe thead th {\n",
       "        text-align: left;\n",
       "    }\n",
       "\n",
       "    .dataframe tbody tr th {\n",
       "        vertical-align: top;\n",
       "    }\n",
       "</style>\n",
       "<table border=\"1\" class=\"dataframe\">\n",
       "  <thead>\n",
       "    <tr style=\"text-align: right;\">\n",
       "      <th></th>\n",
       "      <th>sessionid</th>\n",
       "      <th>event</th>\n",
       "      <th>startTime</th>\n",
       "      <th>completeTime</th>\n",
       "      <th>gender</th>\n",
       "    </tr>\n",
       "  </thead>\n",
       "  <tbody>\n",
       "    <tr>\n",
       "      <th>0</th>\n",
       "      <td>92.0</td>\n",
       "      <td>[Visit page mijn_werkmap, Question]</td>\n",
       "      <td>2015-10-14 14:59:37</td>\n",
       "      <td>2015-10-16 11:25:59</td>\n",
       "      <td>M</td>\n",
       "    </tr>\n",
       "    <tr>\n",
       "      <th>1</th>\n",
       "      <td>358.0</td>\n",
       "      <td>[Visit page mijn_berichten, Visit page taken, ...</td>\n",
       "      <td>2015-10-15 13:34:42</td>\n",
       "      <td>2015-10-15 13:54:38</td>\n",
       "      <td>V</td>\n",
       "    </tr>\n",
       "    <tr>\n",
       "      <th>2</th>\n",
       "      <td>447.0</td>\n",
       "      <td>[Visit page mijn_berichten, Werkmap message]</td>\n",
       "      <td>2015-10-07 11:37:32</td>\n",
       "      <td>2015-10-07 11:44:35</td>\n",
       "      <td>M</td>\n",
       "    </tr>\n",
       "    <tr>\n",
       "      <th>3</th>\n",
       "      <td>1117.0</td>\n",
       "      <td>[Visit page home, Visit page taken, Visit page...</td>\n",
       "      <td>2015-10-30 14:28:33</td>\n",
       "      <td>2015-11-02 10:16:02</td>\n",
       "      <td>V</td>\n",
       "    </tr>\n",
       "    <tr>\n",
       "      <th>4</th>\n",
       "      <td>1472.0</td>\n",
       "      <td>[Visit page mijn_cv, Visit page mijn_werkmap, ...</td>\n",
       "      <td>2015-10-09 10:37:38</td>\n",
       "      <td>2015-10-09 11:00:31</td>\n",
       "      <td>V</td>\n",
       "    </tr>\n",
       "  </tbody>\n",
       "</table>\n",
       "</div>"
      ],
      "text/plain": [
       "   sessionid                                              event  \\\n",
       "0       92.0                [Visit page mijn_werkmap, Question]   \n",
       "1      358.0  [Visit page mijn_berichten, Visit page taken, ...   \n",
       "2      447.0       [Visit page mijn_berichten, Werkmap message]   \n",
       "3     1117.0  [Visit page home, Visit page taken, Visit page...   \n",
       "4     1472.0  [Visit page mijn_cv, Visit page mijn_werkmap, ...   \n",
       "\n",
       "            startTime        completeTime gender  \n",
       "0 2015-10-14 14:59:37 2015-10-16 11:25:59      M  \n",
       "1 2015-10-15 13:34:42 2015-10-15 13:54:38      V  \n",
       "2 2015-10-07 11:37:32 2015-10-07 11:44:35      M  \n",
       "3 2015-10-30 14:28:33 2015-11-02 10:16:02      V  \n",
       "4 2015-10-09 10:37:38 2015-10-09 11:00:31      V  "
      ]
     },
     "execution_count": 7,
     "metadata": {},
     "output_type": "execute_result"
    }
   ],
   "source": [
    "# Make sure the list of activities per session will be ordered by time\n",
    "log.sort_values(['sessionid', 'startTime'], ascending=[True, True], inplace=True)\n",
    "\n",
    "# Define aggregations when looking at each session\n",
    "aggregations = {'event': lambda x: list(x), \n",
    "                'startTime': 'first', \n",
    "                'completeTime': 'last', \n",
    "                'gender': 'first'\n",
    "               }\n",
    "sessions = log.groupby('sessionid', as_index=False).agg(aggregations)\n",
    "sessions.head()"
   ]
  },
  {
   "cell_type": "markdown",
   "metadata": {},
   "source": [
    "<h2> Throughtput </h2>\n",
    "\n",
    "It is interesting to check the distribution of time spent during each session and perhaps relate it to other session atributes, like demographics etc. We define a session's duration as the time spent between the start of its first event and the complete of its last event."
   ]
  },
  {
   "cell_type": "code",
   "execution_count": 8,
   "metadata": {},
   "outputs": [
    {
     "name": "stdout",
     "output_type": "stream",
     "text": [
      "Duration list too big, processing in chunks\n"
     ]
    },
    {
     "data": {
      "text/plain": [
       "Timedelta('1 days 14:30:11.567816')"
      ]
     },
     "execution_count": 8,
     "metadata": {},
     "output_type": "execute_result"
    }
   ],
   "source": [
    "sessions['duration'] = sessions['completeTime'] - sessions['startTime']\n",
    "\n",
    "def compute_average(durations):\n",
    "    \"\"\"\n",
    "    Compute the average from a (potentially long) iterable of timedeltas.\n",
    "    \"\"\"\n",
    "    size = len(durations)\n",
    "    zero = datetime.timedelta(0)\n",
    "    try:\n",
    "        return sum(durations, zero) / len(durations)\n",
    "    except OverflowError:\n",
    "        print(\"Duration list too big, processing in chunks\")\n",
    "        return sum(durations[0:50000], zero) / size + sum(durations[50000: ], zero) / size\n",
    "                \n",
    "average_duration = compute_average(sessions['duration'])\n",
    "average_duration"
   ]
  },
  {
   "cell_type": "code",
   "execution_count": 9,
   "metadata": {},
   "outputs": [
    {
     "data": {
      "text/plain": [
       "0"
      ]
     },
     "execution_count": 9,
     "metadata": {},
     "output_type": "execute_result"
    }
   ],
   "source": [
    "sessions['sessionid'].isnull().sum()"
   ]
  },
  {
   "cell_type": "code",
   "execution_count": 10,
   "metadata": {},
   "outputs": [
    {
     "name": "stdout",
     "output_type": "stream",
     "text": [
      "Traces that include slow communication take 5 days 00:33:28.845784 on average\n",
      "Traces that do NOT include slow communication take 0 days 21:50:50.918503 on average\n"
     ]
    }
   ],
   "source": [
    "def filter_traces(df, *events, include=True):\n",
    "    \"\"\"\n",
    "    Only keep traces that include or exclude at least one of the events passed\n",
    "    \"\"\"\n",
    "    def any_in(a, b):\n",
    "        if include:\n",
    "            return any(i in a for i in b)\n",
    "        return all(i not in a for i in b)\n",
    "    \n",
    "    return df[df['event'].apply(any_in, args=(events,))]\n",
    "        \n",
    "def conditional_average(*events, include=True):\n",
    "    subset = filter_traces(sessions, *events, include=include)\n",
    "    return compute_average(subset['duration'])\n",
    "\n",
    "def to_log(session_df):\n",
    "    \"\"\"\n",
    "    Translate the session view back to the original format\n",
    "    \"\"\"\n",
    "    session_set = session_df['sessionid'].unique()\n",
    "    return log[log['sessionid'].isin(session_set)]\n",
    "    \n",
    "sad_events = ['Question', 'Werkmap message', 'Complaint']\n",
    "bad_path_avg = conditional_average(*sad_events, include=True)\n",
    "print('Traces that include slow communication take {} on average'.format(bad_path_avg))\n",
    "\n",
    "happy_path_avg = conditional_average(*sad_events, include=False)\n",
    "print('Traces that do NOT include slow communication take {} on average'.format(happy_path_avg))"
   ]
  },
  {
   "cell_type": "code",
   "execution_count": 11,
   "metadata": {
    "collapsed": true
   },
   "outputs": [],
   "source": [
    "# Lets filter our initial dataset. These are the different ways to do it:\n",
    "\n",
    "# 1. Just provide a single event to be included or excluded\n",
    "test = filter_traces(sessions, 'Question', include=False) # Only traces without a question will be included\n",
    "\n",
    "# 2. Provide multiple events to be included or excluded\n",
    "test = filter_traces(sessions, 'Question', 'File Complaint', include=True) # Only traces with a question or a complaint\n",
    "\n",
    "# 3. Provide a list of events to be included or excluded\n",
    "sad_events = ['Question', 'Werkmap message', 'File Complaint']\n",
    "happy_paths = filter_traces(sessions, *sad_events, include=False) # Only happy paths will be included\n",
    "sad_paths = filter_traces(sessions, *sad_events, include=True) # Only unhappy paths will be included\n",
    "\n",
    "# Get a subset back to the original customerID based format\n",
    "happy_log = to_log(happy_paths)\n",
    "happy_log.to_csv('data/happy_log.csv',index=False)\n",
    "sad_log = to_log(sad_paths)\n",
    "sad_log.to_csv('data/sad_log.csv',index=False)"
   ]
  },
  {
   "cell_type": "markdown",
   "metadata": {},
   "source": [
    "# Create subsets of happy and sad path (Santiago)\n",
    "We select 30 % of the cases in the sad path and 10% of the cases on happy path\n",
    "\n",
    "\n"
   ]
  },
  {
   "cell_type": "code",
   "execution_count": 12,
   "metadata": {},
   "outputs": [
    {
     "name": "stdout",
     "output_type": "stream",
     "text": [
      "The initail number of cases is 4072 \n",
      "The number of cases selected is  203 \n",
      "The initail number of cases is 3772 \n",
      "The number of cases selected is  188 \n"
     ]
    }
   ],
   "source": [
    "def create_sub_set(x,por):\n",
    "    \"\"\"\n",
    "    Subsample of the number of cases to model.\n",
    "    \"\"\"\n",
    "    random.seed(3)\n",
    "    name_cases = x['case'].unique()\n",
    "    n = int(len(name_cases)*por)\n",
    "    indices = np.random.permutation(name_cases.shape[0])\n",
    "    training_idx, test_idx = indices[:n], indices[n:]\n",
    "    training_idx, test_idx = name_cases[training_idx], name_cases[test_idx]\n",
    "    \n",
    "    training = x[x['case'].isin(training_idx)]\n",
    "    test = x[x['case'].isin(test_idx)]\n",
    "    print('The initail number of cases is {} '.format(len(name_cases)))\n",
    "    print('The number of cases selected is  {} '.format(training_idx.shape[0]))\n",
    "\n",
    "    return training\n",
    "    \n",
    "\n",
    "create_sub_set(happy_log.copy(),0.05).to_csv('data/happy_log_subsample.csv',index=False)\n",
    "create_sub_set(sad_log.copy(),0.05).to_csv('data/sad_log_subsample.csv',index=False)\n"
   ]
  },
  {
   "cell_type": "markdown",
   "metadata": {},
   "source": [
    "# Impute Question as desagregated activity"
   ]
  },
  {
   "cell_type": "code",
   "execution_count": 9,
   "metadata": {},
   "outputs": [],
   "source": [
    "df_sad = pd.read_excel('C:/Users/s157084/Google Drive/Projects Process Mining/Data/paths_taxonomy/sad_with_taxonomy.xlsx')\n",
    "#df_sad = pd.read_csv('C:/Users/s157084/Google Drive/Projects Process Mining/Data/paths_taxonomy/sad_with_taxonomy.csv')1"
   ]
  },
  {
   "cell_type": "code",
   "execution_count": 23,
   "metadata": {},
   "outputs": [
    {
     "name": "stderr",
     "output_type": "stream",
     "text": [
      "C:\\Users\\s157084\\AppData\\Local\\Continuum\\anaconda3\\lib\\site-packages\\ipykernel_launcher.py:3: SettingWithCopyWarning: \n",
      "A value is trying to be set on a copy of a slice from a DataFrame\n",
      "\n",
      "See the caveats in the documentation: http://pandas.pydata.org/pandas-docs/stable/indexing.html#indexing-view-versus-copy\n",
      "  This is separate from the ipykernel package so we can avoid doing imports until\n",
      "C:\\Users\\s157084\\AppData\\Local\\Continuum\\anaconda3\\lib\\site-packages\\ipykernel_launcher.py:4: SettingWithCopyWarning: \n",
      "A value is trying to be set on a copy of a slice from a DataFrame\n",
      "\n",
      "See the caveats in the documentation: http://pandas.pydata.org/pandas-docs/stable/indexing.html#indexing-view-versus-copy\n",
      "  after removing the cwd from sys.path.\n",
      "C:\\Users\\s157084\\AppData\\Local\\Continuum\\anaconda3\\lib\\site-packages\\ipykernel_launcher.py:5: SettingWithCopyWarning: \n",
      "A value is trying to be set on a copy of a slice from a DataFrame\n",
      "\n",
      "See the caveats in the documentation: http://pandas.pydata.org/pandas-docs/stable/indexing.html#indexing-view-versus-copy\n",
      "  \"\"\"\n"
     ]
    }
   ],
   "source": [
    "def impute_question(df):\n",
    "    \n",
    "    df['domain_level_1'][df['event'] == 'Question'] = df['domain_level_1'][df['event'] == 'Question'] + '/Question'\n",
    "    df['domain_level_2'][df['event'] == 'Question'] = df['domain_level_2'][df['event'] == 'Question'] + '/Question'\n",
    "    df['domain_level_2'][df['event'] == 'Question'] = df['domain_level_2'][df['event'] == 'Question'] + '/Question'\n",
    "    \n",
    "    \n",
    "    return df\n",
    "\n",
    "df_sad_imp = impute_question(df_sad.copy())\n",
    "df_sad_imp.to_csv('C:/Users/s157084/Google Drive/Projects Process Mining/Data/paths_taxonomy/sad_with_taxonomy_Question.csv',index=False)"
   ]
  },
  {
   "cell_type": "code",
   "execution_count": 20,
   "metadata": {},
   "outputs": [
    {
     "data": {
      "text/plain": [
       "array(['/werk_nl/werknemer/', '/werk_nl/werknemer/Question',\n",
       "       '/printservice/print/', '/portal/page/', '/shared/timeout.htm/',\n",
       "       '/shared/foutopgetreden.html/', '/ewerkmap/readdetails/',\n",
       "       '/werk_nl/fout/', '/werk_nl/ignore_request_page/',\n",
       "       '/zoeken_portlet/ajax/', '/queueit/healthcheck/',\n",
       "       '/portal/page/Question', '/werk_nl/werkgever/', '/portal/pls/',\n",
       "       '/ajax/dwr/', 'Missing/', 'Missing/Question',\n",
       "       '/werk_nl/ignore_request_page/Question', '/ewerkmap/document/',\n",
       "       '/werk_nl/werkgever/Question',\n",
       "       '/shared/foutopgetreden.html/Question', '/werk_nl/eures/',\n",
       "       '/werk_nl/melding_account_afmelden/', '/portal/pls/Question',\n",
       "       '/werk_nl/arbeidsmarktinformatie/', '/shared/timeout.htm/Question',\n",
       "       '/werk_nl/arbeidsmarktinformatie/Question',\n",
       "       '/werk_nl/fout/Question', '/printservice/print/Question',\n",
       "       '/ajax/dwr/Question', '/ewerkmap/document/Question',\n",
       "       '/shared/onderhoud.htm/', '//werk_nl/',\n",
       "       '/shared/onderhoud.htm/Question', '/zoeken_portlet/ajax/Question',\n",
       "       '//werk_nl/Question', '/ewerkmap/readdetails/Question',\n",
       "       '/upload/document_upload/'], dtype=object)"
      ]
     },
     "execution_count": 20,
     "metadata": {},
     "output_type": "execute_result"
    }
   ],
   "source": [
    "df_sad_imp['domain_level_1'].unique()"
   ]
  },
  {
   "cell_type": "markdown",
   "metadata": {},
   "source": [
    "<h2> Are certain demographic groups more probable to use slow communication channels? </h2>"
   ]
  },
  {
   "cell_type": "code",
   "execution_count": null,
   "metadata": {
    "collapsed": true
   },
   "outputs": [],
   "source": [
    "len(question_sessions[question_sessions['gender'] == 'V']) / len(question_sessions) # Hint: Not really :P"
   ]
  }
 ],
 "metadata": {
  "anaconda-cloud": {},
  "kernelspec": {
   "display_name": "Python 3",
   "language": "python",
   "name": "python3"
  },
  "language_info": {
   "codemirror_mode": {
    "name": "ipython",
    "version": 3
   },
   "file_extension": ".py",
   "mimetype": "text/x-python",
   "name": "python",
   "nbconvert_exporter": "python",
   "pygments_lexer": "ipython3",
   "version": "3.6.2"
  }
 },
 "nbformat": 4,
 "nbformat_minor": 1
}
