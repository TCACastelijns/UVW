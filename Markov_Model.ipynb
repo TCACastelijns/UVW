{
 "cells": [
  {
   "cell_type": "markdown",
   "metadata": {},
   "source": [
    "# Markov Model\n",
    "\n",
    "In this section we will elaborate an analysis using Markov chain theory. The theoretical knowledge come mostly from:\n",
    "\n",
    "    Introduction to Modeling and Analysis of Stochastic Systems. by, V.G.Kulkami\n"
   ]
  },
  {
   "cell_type": "code",
   "execution_count": null,
   "metadata": {
    "collapsed": true
   },
   "outputs": [],
   "source": [
    "import pandas as pd\n",
    "import numpy as np\n",
    "import matplotlib.pyplot as plt\n",
    "import seaborn as sns"
   ]
  },
  {
   "cell_type": "code",
   "execution_count": null,
   "metadata": {},
   "outputs": [],
   "source": [
    "#df = pd.read_excel('C:/Users/s157084/Google Drive/Projects Process Mining/Data/paths_taxonomy/sad_with_taxonomy.xlsx')\n",
    "df = pd.read_csv('C:/Users/s157084/Google Drive/Projects Process Mining/Data/paths/sad_log_1Q_inclQ.csv', encoding = \"ISO-8859-1\")"
   ]
  },
  {
   "cell_type": "code",
   "execution_count": null,
   "metadata": {},
   "outputs": [],
   "source": [
    "\n",
    "def transition_matrix(df_id, df_event):\n",
    "    \"\"\"\n",
    "    per session, lets count the sequence of events.\n",
    "    P is the frequency matrix and PN is the stochastic matrix\n",
    "    \"\"\"\n",
    "    \n",
    "    events = pd.Series(df_event.unique())\n",
    "    split = pd.Series(df_id.unique())\n",
    "    P = pd.DataFrame(0, index= events, columns= events)\n",
    "    T = pd.DataFrame(0, index= events, columns= events)\n",
    "    #Calculate the trougthput time\n",
    "    print('Computing the transition matrix')\n",
    "    for i in split:\n",
    "        df_event_temp = df_event[df_id == i]\n",
    "        if len(df_event_temp) > 1:\n",
    "            for j in range(1,len(df_event_temp)):\n",
    "                P.loc[df_event_temp.iloc[j-1],df_event_temp.iloc[j]] += 1\n",
    "                \n",
    "\n",
    "    #Create the transition matrix\n",
    "    print('Normalizing the transition matrix')\n",
    "    cum_freq = np.sum(P, axis = 0)\n",
    "\n",
    "    if len(cum_freq[cum_freq == 0]) > 0:\n",
    "        print('P is NOT an stochastic matrix')\n",
    "        print('the following values events are deleted:')\n",
    "        names_out = list(cum_freq[cum_freq == 0].index)\n",
    "        print(names_out)\n",
    "        P = P.drop(names_out, axis = 0)\n",
    "        P = P.drop(names_out, axis = 1)\n",
    "        print(P.shape)\n",
    "        \n",
    "    else: \n",
    "        print('P is an stochastic matrix')\n",
    "\n",
    "    P = P/np.sum(P, axis = 0)\n",
    "    print('done')\n",
    "    \n",
    "    \n",
    "    return P\n",
    "    \n",
    "    \n",
    "P = transition_matrix(df['sessionid'], df['event'])\n",
    "    "
   ]
  },
  {
   "cell_type": "code",
   "execution_count": null,
   "metadata": {},
   "outputs": [],
   "source": [
    "#Export the transition matrix to csv\n",
    "P.to_csv('transition_matrix.csv')\n"
   ]
  },
  {
   "cell_type": "code",
   "execution_count": null,
   "metadata": {
    "scrolled": false
   },
   "outputs": [],
   "source": [
    "def print_matrix(X):\n",
    "    mask = np.zeros_like(X, dtype=np.bool)\n",
    "    mask[np.triu_indices_from(mask)] = False\n",
    "    f, ax = plt.subplots(figsize=(25, 20))\n",
    "    cmap = sns.diverging_palette(220, 10, as_cmap=True)\n",
    "    sns.heatmap(X, mask=mask, cmap=cmap, center=0,square=True, linewidths=.5, cbar_kws={\"shrink\": .5})\n",
    "    #mpl.pyplot.savefig('Figures/Correlation_Matrix_Independet.png')\n",
    "    plt.show()  \n",
    "    \n",
    "print_matrix(P)\n",
    "\n"
   ]
  },
  {
   "cell_type": "markdown",
   "metadata": {
    "collapsed": true
   },
   "source": [
    "# Dynamic Effect of the initial State on Users questions using Marconian Properties.\n",
    "\n",
    "In this section we try to find patterns that eventually will lead to questions.\n"
   ]
  },
  {
   "cell_type": "code",
   "execution_count": null,
   "metadata": {},
   "outputs": [],
   "source": [
    "\n",
    "def create_stepwise_probabilities(P, n_steps, target):\n",
    "    \"\"\"\n",
    "    P is the transition matrix, n_steps are the number of steps that must be considered to reach the target.\n",
    "    \"\"\"\n",
    "    \n",
    "    P_steps = pd.DataFrame()\n",
    "    events = list(P)\n",
    "    for step in range(n_steps):\n",
    "        P_temp = pd.DataFrame(P[target])\n",
    "        P_temp['step'] = step + 1\n",
    "        P = pd.DataFrame(np.dot(P,P), index= events, columns= events)        \n",
    "        P_steps = pd.concat([P_steps,P_temp],axis=0)\n",
    "\n",
    "    P_steps['event'] = P_steps.index\n",
    "    \n",
    "    P_steps.columns = ['P', 'step', 'event']\n",
    "    return P_steps.reset_index(drop=True), P\n",
    "   \n",
    "P_steps, PN = create_stepwise_probabilities(P.copy(),4 ,'Question')"
   ]
  },
  {
   "cell_type": "code",
   "execution_count": null,
   "metadata": {
    "scrolled": false
   },
   "outputs": [],
   "source": [
    "def plot_stepwise_prob(P_steps, threshold, delta = False):\n",
    "    \"\"\"\n",
    "    Plot how the probabilities of different steps change in time. Only take into account events that have a max probability\n",
    "    bigger than the threshold\n",
    "    \"\"\"\n",
    "    \n",
    "    #Filter Events\n",
    "    if delta == False:    \n",
    "        filter_ = P_steps.groupby(['event'])['P'].max()\n",
    "\n",
    "    \n",
    "    else:\n",
    "        filter_ = pd.DataFrame()\n",
    "        events = list(P_steps['event'].unique())\n",
    "        #Calculate delta \n",
    "        for event in events:\n",
    "            P_steps_temp = P_steps[ P_steps['event'] == event]\n",
    "            P_steps_temp['delta'] = P_steps_temp['P'].diff().dropna()\n",
    "            filter_temp = P_steps_temp.groupby(['event'])['delta'].max()\n",
    "            filter_ = pd.concat([filter_, filter_temp],axis=0)\n",
    "            \n",
    "    \n",
    "    filter_ = filter_[filter_.values >= threshold]\n",
    "    names_in = list(filter_.index)\n",
    "    P_steps = P_steps[P_steps['event'].isin(names_in)]   \n",
    "        \n",
    "    #Create the graph\n",
    "    sns.set(font_scale=2)\n",
    "    f, ax = plt.subplots(figsize=(24, 20))\n",
    "    ax.set_title('Number of Steps Vs Probability of end in a Question')\n",
    "    \n",
    "    for event in list(P_steps['event'].unique()):\n",
    "        temp_P = P_steps[P_steps['event'] == event]\n",
    "        ax.plot(temp_P['step'], temp_P['P'], label = event)\n",
    "    \n",
    "    ax.legend(loc='upper right')\n",
    "    plt.show()\n",
    "    \n",
    "    return P_steps\n",
    "    \n",
    "P_temp = plot_stepwise_prob(P_steps, 0.005, True)\n"
   ]
  },
  {
   "cell_type": "code",
   "execution_count": null,
   "metadata": {},
   "outputs": [],
   "source": [
    "#P_temp = plot_stepwise_prob(P_steps, 0.05, False)"
   ]
  },
  {
   "cell_type": "code",
   "execution_count": null,
   "metadata": {},
   "outputs": [],
   "source": [
    "#Transition Matrix of the events that may trigger questions\n",
    "sig_events = list(P_temp['event'].unique())\n",
    "sig_events.append('Question')\n",
    "print_matrix(P.loc[sig_events,sig_events])"
   ]
  }
 ],
 "metadata": {
  "kernelspec": {
   "display_name": "Python 3",
   "language": "python",
   "name": "python3"
  },
  "language_info": {
   "codemirror_mode": {
    "name": "ipython",
    "version": 3
   },
   "file_extension": ".py",
   "mimetype": "text/x-python",
   "name": "python",
   "nbconvert_exporter": "python",
   "pygments_lexer": "ipython3",
   "version": "3.6.2"
  }
 },
 "nbformat": 4,
 "nbformat_minor": 2
}
